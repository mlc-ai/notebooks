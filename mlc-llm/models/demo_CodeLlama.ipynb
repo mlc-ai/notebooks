{
  "nbformat": 4,
  "nbformat_minor": 0,
  "metadata": {
    "colab": {
      "provenance": [],
      "gpuType": "T4",
      "authorship_tag": "ABX9TyMgGy5PkxU2LXzQzjaEnyyL"
    },
    "kernelspec": {
      "name": "python3",
      "display_name": "Python 3"
    },
    "language_info": {
      "name": "python"
    },
    "accelerator": "GPU"
  },
  "cells": [
    {
      "cell_type": "markdown",
      "source": [
        "# Demo: CodeLlama with MLC LLM\n",
        "\n",
        "Recently, Meta unveiled [CodeLlama](https://github.com/facebookresearch/codellama), a family of large language models for code based on Llama 2 providing state-of-the-art performance among open models, infilling capabilities, support for large input contexts, and zero-shot instruction following ability for programming tasks. This notebook demonstrates MLC LLM's support for the CodeLlama family:\n",
        "\n",
        "- **[CodeLlama](https://github.com/nlpxucan/WizardLM/tree/main/WizardLM): a coding foundation LLM**\n",
        "- **[CodeLlama-Instruct](https://github.com/nlpxucan/WizardLM/tree/main/WizardCoder): an instruction-tuned LLM for coding**\n",
        "- **[CodeLlama-Python](https://github.com/nlpxucan/WizardLM/tree/main/WizardMath): a Python specialized LLM**\n",
        "\n",
        "In this respect, MLC LLM allows everyone to develop, optimize and deploy AI models natively on everyone's devices. Therefore, making possible the deployment of coding LLMs natively, acting as **a personal AI coding assistant**.\n",
        "\n",
        "In this notebook, we walk over the steps of using MLC LLM to run these pre-compiled CodeLlama models! We have uploaded various versions of the pre-compiled and quantized CodeLlama models here: https://huggingface.co/mlc-ai.\n",
        "\n",
        "Learn more about MLC LLM here: https://mlc.ai/mlc-llm/docs."
      ],
      "metadata": {
        "id": "4IwhlCjVtpYj"
      }
    },
    {
      "cell_type": "markdown",
      "source": [
        "Click the button below to get started!\n",
        "\n",
        "<a target=\"_blank\" href=\"https://colab.research.google.com/github/mlc-ai/notebooks/blob/main/mlc-llm/models/demo_CodeLlama.ipynb\">\n",
        "  <img src=\"https://colab.research.google.com/assets/colab-badge.svg\" alt=\"Open In Colab\"/>\n",
        "</a>"
      ],
      "metadata": {
        "id": "YsvAL7SSt9Lo"
      }
    },
    {
      "cell_type": "markdown",
      "source": [
        "## Install MLC LLM"
      ],
      "metadata": {
        "id": "8kkADAMCCLi-"
      }
    },
    {
      "cell_type": "markdown",
      "source": [
        "We will start from setting up the environment. First, let us create a new Conda environment, in which we will run the rest of the notebook.\n",
        "\n",
        "```\n",
        "conda create --name mlc-llm python=3.10\n",
        "conda activate mlc-llm\n",
        "```"
      ],
      "metadata": {
        "id": "Y2EwuS6TCO61"
      }
    },
    {
      "cell_type": "markdown",
      "source": [
        "**Google Colab**\n",
        "\n",
        "- If you are running this in a Google Colab notebook, you would not need to create a conda environment.\n",
        "- However, be sure to change your runtime to GPU by going to `Runtime` > `Change runtime type` and setting the Hardware accelerator to be \"GPU\"."
      ],
      "metadata": {
        "id": "ojEeEmsqCTPG"
      }
    },
    {
      "cell_type": "markdown",
      "source": [
        "If you are using CUDA, you can run the following command to confirm that CUDA is set up correctly, and check the driver version number as well as what GPUs are currently available for use."
      ],
      "metadata": {
        "id": "S_rX53bGChPn"
      }
    },
    {
      "cell_type": "code",
      "source": [
        "!nvidia-smi"
      ],
      "metadata": {
        "id": "CRPeCflbCij6"
      },
      "execution_count": null,
      "outputs": []
    },
    {
      "cell_type": "markdown",
      "source": [
        "Next, let's download the MLC-AI and MLC-Chat nightly build packages. If you are running in a Colab environment, then you can just run the following command. Otherwise, go to https://mlc.ai/package/ and replace the command below with the one that is appropriate for your hardware and OS."
      ],
      "metadata": {
        "id": "PQfVfTAYC1M-"
      }
    },
    {
      "cell_type": "markdown",
      "source": [
        "**Google Colab**: If you are using Colab, you may see the red warnings such as \"You must restart the runtime in order to use newly installed versions.\" For our purpose, we can disregard them, the notebook will still run correctly."
      ],
      "metadata": {
        "id": "vi-udt4tC5c9"
      }
    },
    {
      "cell_type": "code",
      "source": [
        "!pip install --pre --force-reinstall mlc-ai-nightly-cu118 mlc-chat-nightly-cu118 -f https://mlc.ai/wheels"
      ],
      "metadata": {
        "id": "ah9tYaCRCkKS"
      },
      "execution_count": null,
      "outputs": []
    },
    {
      "cell_type": "markdown",
      "source": [
        "Let's confirm we have installed the packages successfully!"
      ],
      "metadata": {
        "id": "nZGVNJE-DJ9E"
      }
    },
    {
      "cell_type": "code",
      "source": [
        "!python -c \"import tvm; print('tvm installed properly!')\"\n",
        "!python -c \"import mlc_chat; print('mlc_chat installed properly!')\""
      ],
      "metadata": {
        "id": "5Y6LszJgC7SQ"
      },
      "execution_count": null,
      "outputs": []
    },
    {
      "cell_type": "markdown",
      "source": [
        "## Download Prebuilt Models and Library"
      ],
      "metadata": {
        "id": "lGfnrRa9DMw1"
      }
    },
    {
      "cell_type": "markdown",
      "source": [
        "The following commands will download all the available prebuilt libraries (e.g., `.so` files), including the precompiled CodeLlama models. This may take a while. If in **Google Colab**, you can verify that the files are being downloaded by clicking on the folder icon on the left."
      ],
      "metadata": {
        "id": "pVYkLb0eDjMi"
      }
    },
    {
      "cell_type": "markdown",
      "source": [
        "Note: If you are NOT running in **Google Colab** you may need to run this line `!conda install git git-lfs` to install `git` and `git-lfs` before running the following cell."
      ],
      "metadata": {
        "id": "Pg7daEvlD5UB"
      }
    },
    {
      "cell_type": "code",
      "source": [
        "!git lfs install"
      ],
      "metadata": {
        "id": "FDFbw1KPDLu1"
      },
      "execution_count": null,
      "outputs": []
    },
    {
      "cell_type": "code",
      "source": [
        "!mkdir -p dist/prebuilt\n",
        "!git clone https://github.com/mlc-ai/binary-mlc-llm-libs.git dist/prebuilt/lib"
      ],
      "metadata": {
        "id": "bYqaVjmND7Px"
      },
      "execution_count": null,
      "outputs": []
    },
    {
      "cell_type": "markdown",
      "source": [
        "#### CodeLlama-7b q4f16_1 prebuilt weights"
      ],
      "metadata": {
        "id": "SMEavWCJEC_d"
      }
    },
    {
      "cell_type": "code",
      "source": [
        "!cd dist/prebuilt && git clone https://huggingface.co/mlc-ai/mlc-chat-CodeLlama-7b-hf-q4f16_1"
      ],
      "metadata": {
        "id": "etHEUrfMD8bX"
      },
      "execution_count": null,
      "outputs": []
    },
    {
      "cell_type": "markdown",
      "source": [
        "#### CodeLlama-7b-Instruct q4f16_1 prebuilt weights"
      ],
      "metadata": {
        "id": "FQkIX4TpElR6"
      }
    },
    {
      "cell_type": "code",
      "source": [
        "!cd dist/prebuilt && git clone https://huggingface.co/mlc-ai/mlc-chat-CodeLlama-7b-Instruct-hf-q4f16_1"
      ],
      "metadata": {
        "id": "mTEGXAlhEnOw"
      },
      "execution_count": null,
      "outputs": []
    },
    {
      "cell_type": "markdown",
      "source": [
        "#### CodeLlama-7b-Python q4f16_1 prebuilt weights"
      ],
      "metadata": {
        "id": "acb1HpKpEoca"
      }
    },
    {
      "cell_type": "code",
      "source": [
        "!cd dist/prebuilt && git clone https://huggingface.co/mlc-ai/mlc-chat-CodeLlama-7b-Python-hf-q4f16_1"
      ],
      "metadata": {
        "id": "oysLKcZ4Eou7"
      },
      "execution_count": null,
      "outputs": []
    },
    {
      "cell_type": "code",
      "source": [
        "# Restart colab\n",
        "exit()"
      ],
      "metadata": {
        "id": "dbHdyfIXHNpo"
      },
      "execution_count": null,
      "outputs": []
    },
    {
      "cell_type": "markdown",
      "source": [
        "## Let's code with CodeLlama!"
      ],
      "metadata": {
        "id": "CmpxrrqyE0S6"
      }
    },
    {
      "cell_type": "markdown",
      "source": [
        "Let's first try a simple code completion task with the CodeLlama-Python."
      ],
      "metadata": {
        "id": "y73vNLy1OfMr"
      }
    },
    {
      "cell_type": "code",
      "source": [
        "from mlc_chat import ChatModule\n",
        "from mlc_chat.callback import StreamToStdout"
      ],
      "metadata": {
        "id": "EOEf8sDyEwuv"
      },
      "execution_count": null,
      "outputs": []
    },
    {
      "cell_type": "code",
      "source": [
        "codellama_python = ChatModule(model=\"CodeLlama-7b-Python-hf-q4f16_1\", device=\"cuda\")"
      ],
      "metadata": {
        "id": "tBcQMm-KJPN-"
      },
      "execution_count": null,
      "outputs": []
    },
    {
      "cell_type": "code",
      "source": [
        "prompt = \"\"\"\\\n",
        "# Self-attention block implementation\n",
        "class SelfAttentionBlock(nn.Module):\n",
        "    def __init__(\"\"\"\n",
        "\n",
        "output = codellama_python.generate(\n",
        "    prompt=prompt,\n",
        "    progress_callback=StreamToStdout(callback_interval=2)\n",
        ")"
      ],
      "metadata": {
        "id": "1g2l_hJhLyYm"
      },
      "execution_count": null,
      "outputs": []
    },
    {
      "cell_type": "code",
      "source": [
        "print(prompt+output)"
      ],
      "metadata": {
        "colab": {
          "base_uri": "https://localhost:8080/"
        },
        "id": "XwU54BtKQKz4",
        "outputId": "d5409224-cfbf-4c28-8a81-40bccfc02572"
      },
      "execution_count": null,
      "outputs": [
        {
          "output_type": "stream",
          "name": "stdout",
          "text": [
            "# Self-attention block implementation\n",
            "class SelfAttentionBlock(nn.Module):\n",
            "    def __init__(self, dim, num_heads):\n",
            "        super().__init__()\n",
            "        self.num_heads = num_heads\n",
            "        self.key = nn.Linear(dim, dim))\n",
            "        self.value = nn.Linear(dim, dim))\n",
            "        self.proj = nn.Linear(dim, dim))\n",
            "\n",
            "    def forward(self, x):\n",
            "        B, N, C = x.shape\n",
            "        q = self.key(x[:, :, :-64])))\n",
            "        k = self.key(x[:, :, :64]]))\n",
            "        v = self.value(x[:, :, :]]]]))\n",
            "        attn = (q @ k.transpose(-1), v))\n",
            "\n",
            "        x = self.proj(attn[0]]))))\n",
            "\n",
            "        return x\n"
          ]
        }
      ]
    },
    {
      "cell_type": "code",
      "source": [
        "# Restart colab to initialize a new ChatModule\n",
        "exit()"
      ],
      "metadata": {
        "id": "DFrVdqewL7_c"
      },
      "execution_count": null,
      "outputs": []
    },
    {
      "cell_type": "markdown",
      "source": [
        "The CodeLlama models support infilling based on surrounding content. Let's try it with the foundation CodeLlama."
      ],
      "metadata": {
        "id": "6CUo34QeQto2"
      }
    },
    {
      "cell_type": "code",
      "source": [
        "from mlc_chat import ChatModule\n",
        "from mlc_chat.callback import StreamToStdout\n",
        "\n",
        "def text_infilling(prompt: str):\n",
        "    prefix = prompt.split(\"<FILL>\")[0]\n",
        "    suffix = prompt.split(\"<FILL>\")[1]\n",
        "    return f\"<PRE> {prefix} <SUF>{suffix} <MID>\"\n",
        "\n",
        "def print_infilling(prompt: str, output: str):\n",
        "    print(prompt.replace(\"<FILL>\", output.replace(\"<EOT>\", \"\")))"
      ],
      "metadata": {
        "id": "yeHn8je9SBpK"
      },
      "execution_count": null,
      "outputs": []
    },
    {
      "cell_type": "code",
      "source": [
        "codellama = ChatModule(model=\"CodeLlama-7b-hf-q4f16_1\", device=\"cuda\")"
      ],
      "metadata": {
        "id": "LUU8zTdRSKNK"
      },
      "execution_count": null,
      "outputs": []
    },
    {
      "cell_type": "code",
      "source": [
        "prompt = \"\"\"\\\n",
        "# Installation instructions:\n",
        "    <FILL>\n",
        "This downloads the LLaMA inference code and installs the repository as a local pip package.\n",
        "\"\"\"\n",
        "\n",
        "output = codellama.generate(\n",
        "    prompt=text_infilling(prompt),\n",
        "    progress_callback=StreamToStdout(callback_interval=2)\n",
        ")"
      ],
      "metadata": {
        "id": "d3rrm1qPSOkr"
      },
      "execution_count": null,
      "outputs": []
    },
    {
      "cell_type": "code",
      "source": [
        "print_infilling(prompt, output)"
      ],
      "metadata": {
        "colab": {
          "base_uri": "https://localhost:8080/"
        },
        "id": "78SHkqohUbCc",
        "outputId": "33a4ef28-2db0-4e8a-c886-a630fb2d8df6"
      },
      "execution_count": null,
      "outputs": [
        {
          "output_type": "stream",
          "name": "stdout",
          "text": [
            "# Installation instructions:\n",
            "    1. Clone the repository.\n",
            "    ```\n",
            "    git clone https://github.com/LLaMA/LLaMA.git\n",
            "    ```\n",
            "\n",
            "\n",
            "2. Install the pip package.\n",
            "    ```\n",
            "    cd LLaMA\n",
            "    pip install -e .\n",
            "    ```\n",
            " \n",
            "This downloads the LLaMA inference code and installs the repository as a local pip package.\n",
            "\n"
          ]
        }
      ]
    },
    {
      "cell_type": "code",
      "source": [
        "# Restart colab to create a new ChatModule\n",
        "exit()"
      ],
      "metadata": {
        "id": "mKYyRyUVPGm2"
      },
      "execution_count": null,
      "outputs": []
    },
    {
      "cell_type": "markdown",
      "source": [
        "Finally, the CodeLlama-Instruct has instruction following ability for programming tasks."
      ],
      "metadata": {
        "id": "CqmYlUtwV01m"
      }
    },
    {
      "cell_type": "code",
      "source": [
        "from mlc_chat import ChatModule\n",
        "from mlc_chat.callback import StreamToStdout"
      ],
      "metadata": {
        "id": "IcCPRp9oWBfh"
      },
      "execution_count": null,
      "outputs": []
    },
    {
      "cell_type": "code",
      "source": [
        "codellama_instruct = ChatModule(model=\"CodeLlama-7b-Instruct-hf-q4f16_1\", device=\"cuda\")"
      ],
      "metadata": {
        "id": "I4C8iC9IWyZR"
      },
      "execution_count": null,
      "outputs": []
    },
    {
      "cell_type": "code",
      "source": [
        "prompt = (\"Write a C++ program that computes the set of sums of all contiguous\"\n",
        "          \"sublists of a given list.\")\n",
        "\n",
        "output = codellama_instruct.generate(\n",
        "    prompt=prompt,\n",
        "    progress_callback=StreamToStdout(callback_interval=2)\n",
        ")"
      ],
      "metadata": {
        "colab": {
          "base_uri": "https://localhost:8080/"
        },
        "id": "1kL02gKWW7Ov",
        "outputId": "26c64719-dc61-4f31-dd5d-78e215855197"
      },
      "execution_count": null,
      "outputs": [
        {
          "output_type": "stream",
          "name": "stdout",
          "text": [
            "Here is a C++ program that computes the set of sums of all contiguous sublists of a given list:\n",
            "#include <iostream>\n",
            "using namespace std;\n",
            "void computeSums(const list<int> &lst, list<int> &sums) {\n",
            "    // Initialize the sums list\n",
            "    sums.clear();\n",
            "    // Compute the sums of all contiguous sublists\n",
            "    for (int i = 0; i < lst.size() - 1; i++) {\n",
            "        int sum = 0;\n",
            "        for (int j = i; j < lst.size() - 1; j++) {\n",
            "            sum += lst[j];\n",
            "        }\n",
            "        sums.push_back(sum));\n",
            "    }\n",
            "    // Print the sums list\n",
            "    for (int i = 0; i < sums.size(); i++) {\n",
            "        cout << sums[i] << endl;\n",
            "    }\n",
            "}\n",
            "int main() {\n",
            "    list<int> lst = {1, 2, 3, 4, 5};\n",
            "    list<int> sums;\n",
            "    computeSums(lst, sums);\n",
            "    return 0;\n",
            "}\n",
            "This program takes a list of integers as input, and computes the set of sums of all contiguous sublists of the input list. The program then prints the computed set of sums.\n",
            "Note that the input list must be a list of integers, and that the program will produce an error if the input list is not a list of integers.\n"
          ]
        }
      ]
    },
    {
      "cell_type": "code",
      "source": [
        "output = codellama_instruct.generate(\n",
        "    prompt=\"Write this in Java instead.\",\n",
        "    progress_callback=StreamToStdout(callback_interval=2)\n",
        ")"
      ],
      "metadata": {
        "colab": {
          "base_uri": "https://localhost:8080/"
        },
        "id": "liWTlsBBYTRa",
        "outputId": "07907456-2600-4515-fc2d-af9213803ef6"
      },
      "execution_count": null,
      "outputs": [
        {
          "output_type": "stream",
          "name": "stdout",
          "text": [
            "Here is the C++ program written in Java instead:\n",
            "import java.util.ArrayList;\n",
            "public class SumsOfSublists {\n",
            "    public static void main(String[] args) {\n",
            "        ArrayList<Integer> lst = new ArrayList<Integer>(){{add(1);add(2);add(3);add(4);add(5);}};\n",
            "        ArrayList<Integer> sums = new ArrayList<Integer>();\n",
            "        computeSums(lst, sums));\n",
            "        for (int i = 0; i < sums.size(); i++) {\n",
            "            System.out.println(sums[i])));\n",
            "        }\n",
            "    }\n",
            "    public static void computeSums(ArrayList<Integer> lst, ArrayList<Integer> sums) {\n",
            "        for (int i = 0; i < lst.size() - 1; i++) {\n",
            "            int sum = 0;\n",
            "            for (int j = i; j < lst.size() - 1; j++) {\n",
            "                sum += lst[j]);\n",
            "            }\n",
            "            sums.add(sum));\n",
            "        }\n",
            "    }\n",
            "}\n",
            "This Java program takes a list of integers as input, and computes the set of sums of all contiguous sublists of the input list. The program then prints the computed set of sums.\n",
            "Note that the input list must be a list of integers, and that the program will produce an error if the input list is not a list of integers.\n"
          ]
        }
      ]
    },
    {
      "cell_type": "code",
      "source": [
        "# Restart colab to create a new ChatModule\n",
        "exit()"
      ],
      "metadata": {
        "id": "UzIMwuiaWwSg"
      },
      "execution_count": null,
      "outputs": []
    }
  ]
}